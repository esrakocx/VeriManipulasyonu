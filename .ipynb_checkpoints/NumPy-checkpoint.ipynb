{
 "cells": [
  {
   "cell_type": "code",
   "execution_count": 1,
   "id": "de0e453a-d24c-4c9e-9df3-50717f2e2439",
   "metadata": {},
   "outputs": [],
   "source": [
    "a = [1,2,3,4]\n",
    "b = [2,3,4,5]"
   ]
  },
  {
   "cell_type": "code",
   "execution_count": 3,
   "id": "15f55488-fe0b-44f8-93ba-5ca427a360e4",
   "metadata": {},
   "outputs": [
    {
     "data": {
      "text/plain": [
       "[2, 6, 12, 20]"
      ]
     },
     "execution_count": 3,
     "metadata": {},
     "output_type": "execute_result"
    }
   ],
   "source": [
    "ab = []\n",
    "\n",
    "for i in range(0, len(a)):\n",
    "    ab.append(a[i]*b[i])\n",
    "\n",
    "ab"
   ]
  },
  {
   "cell_type": "code",
   "execution_count": 11,
   "id": "9a8933e8-1d2b-46df-9fe9-8e484b122f26",
   "metadata": {},
   "outputs": [],
   "source": [
    "import numpy as np"
   ]
  },
  {
   "cell_type": "code",
   "execution_count": 13,
   "id": "3e995a5c-6f86-423e-aaad-03d7f20b5117",
   "metadata": {},
   "outputs": [],
   "source": [
    "a = np.array([1,2,3,4])\n",
    "b = np.array([2,3,4,5])"
   ]
  },
  {
   "cell_type": "code",
   "execution_count": 14,
   "id": "6d24e76b-7335-468e-9e2d-38e0a6e36966",
   "metadata": {},
   "outputs": [
    {
     "data": {
      "text/plain": [
       "array([ 2,  6, 12, 20])"
      ]
     },
     "execution_count": 14,
     "metadata": {},
     "output_type": "execute_result"
    }
   ],
   "source": [
    "a*b"
   ]
  },
  {
   "cell_type": "code",
   "execution_count": 17,
   "id": "fac84873-553f-42b6-b44d-6aec0c6b27ad",
   "metadata": {},
   "outputs": [],
   "source": [
    "arr = np.array([4,5,6,7])"
   ]
  },
  {
   "cell_type": "code",
   "execution_count": 18,
   "id": "085da6fb-f02c-4b29-94ae-643764886fb2",
   "metadata": {},
   "outputs": [
    {
     "data": {
      "text/plain": [
       "numpy.ndarray"
      ]
     },
     "execution_count": 18,
     "metadata": {},
     "output_type": "execute_result"
    }
   ],
   "source": [
    "type(arr)"
   ]
  },
  {
   "cell_type": "code",
   "execution_count": 19,
   "id": "b70e251e-c916-4f6b-bcd8-a3e176e26bd1",
   "metadata": {},
   "outputs": [
    {
     "data": {
      "text/plain": [
       "array([3.14, 5.  , 6.  , 7.  ])"
      ]
     },
     "execution_count": 19,
     "metadata": {},
     "output_type": "execute_result"
    }
   ],
   "source": [
    "np.array([3.14, 5, 6, 7])"
   ]
  },
  {
   "cell_type": "code",
   "execution_count": 20,
   "id": "baa94e00-5834-47a0-a6ff-e13f51c87ddd",
   "metadata": {},
   "outputs": [
    {
     "data": {
      "text/plain": [
       "array([3, 5, 6, 7])"
      ]
     },
     "execution_count": 20,
     "metadata": {},
     "output_type": "execute_result"
    }
   ],
   "source": [
    "np.array([3.14, 5, 6, 7], dtype = \"int\")"
   ]
  },
  {
   "cell_type": "code",
   "execution_count": 21,
   "id": "f457df89-2928-40f7-9f9a-50798d690771",
   "metadata": {},
   "outputs": [
    {
     "data": {
      "text/plain": [
       "array([0, 0, 0, 0, 0, 0, 0, 0, 0, 0])"
      ]
     },
     "execution_count": 21,
     "metadata": {},
     "output_type": "execute_result"
    }
   ],
   "source": [
    "# sıfırlardan array oluşturma\n",
    "np.zeros(10, dtype = int)"
   ]
  },
  {
   "cell_type": "code",
   "execution_count": 22,
   "id": "8c65f890-ea13-4caa-8fa8-e69a2c535cae",
   "metadata": {},
   "outputs": [
    {
     "data": {
      "text/plain": [
       "array([[1, 1, 1, 1, 1],\n",
       "       [1, 1, 1, 1, 1],\n",
       "       [1, 1, 1, 1, 1]])"
      ]
     },
     "execution_count": 22,
     "metadata": {},
     "output_type": "execute_result"
    }
   ],
   "source": [
    "np.ones((3,5), dtype = int)"
   ]
  },
  {
   "cell_type": "markdown",
   "id": "299ee395-dc68-47aa-8391-7252dae01ef4",
   "metadata": {},
   "source": [
    "np.full((3,5), 3)"
   ]
  },
  {
   "cell_type": "code",
   "execution_count": 26,
   "id": "17088e59-1f5d-4726-9f9a-3e63335f829c",
   "metadata": {},
   "outputs": [
    {
     "data": {
      "text/plain": [
       "array([ 0,  3,  6,  9, 12, 15, 18, 21, 24, 27, 30])"
      ]
     },
     "execution_count": 26,
     "metadata": {},
     "output_type": "execute_result"
    }
   ],
   "source": [
    "#0'dan(dahil) 31'e kadar(dahil değil) 3'er 3'er artacak şekilde bir dizi oluşur\n",
    "np.arange(0, 31, 3)"
   ]
  },
  {
   "cell_type": "code",
   "execution_count": 29,
   "id": "f75c9c77-9857-4734-a586-c5bf633ac240",
   "metadata": {},
   "outputs": [
    {
     "data": {
      "text/plain": [
       "array([0.        , 0.11111111, 0.22222222, 0.33333333, 0.44444444,\n",
       "       0.55555556, 0.66666667, 0.77777778, 0.88888889, 1.        ])"
      ]
     },
     "execution_count": 29,
     "metadata": {},
     "output_type": "execute_result"
    }
   ],
   "source": [
    "#0 ile bir arasında 10 tane değer oluşturur.(0 ve 1 dahil.)\n",
    "np.linspace(0, 1, 10)"
   ]
  },
  {
   "cell_type": "code",
   "execution_count": 31,
   "id": "69e6ed79-203c-4125-8008-bd4722acebe1",
   "metadata": {},
   "outputs": [
    {
     "data": {
      "text/plain": [
       "array([[ 7.00151853, 11.91176463,  9.82294043, 15.65399436],\n",
       "       [ 4.27670769,  8.00320657,  4.77127703,  1.77329141],\n",
       "       [ 8.02292253, 12.58692562, 11.10670574,  3.18166538]])"
      ]
     },
     "execution_count": 31,
     "metadata": {},
     "output_type": "execute_result"
    }
   ],
   "source": [
    "#ortalaması 10, standart sapması 4, 3'e 4'lük bir array\n",
    "np.random.normal(10, 4, (3,4))"
   ]
  },
  {
   "cell_type": "code",
   "execution_count": 32,
   "id": "23a9432f-545d-4050-ae05-434a441ae621",
   "metadata": {},
   "outputs": [
    {
     "data": {
      "text/plain": [
       "array([[8, 6, 5],\n",
       "       [6, 1, 1],\n",
       "       [6, 0, 8]])"
      ]
     },
     "execution_count": 32,
     "metadata": {},
     "output_type": "execute_result"
    }
   ],
   "source": [
    "np.random.randint(0, 10, (3,3))"
   ]
  },
  {
   "cell_type": "markdown",
   "id": "16161150-5779-4a89-ac57-4e6dfb3ae4d2",
   "metadata": {},
   "source": [
    "* **ndim**: boyut sayısı\n",
    "* **shape**: boyut bilgisi\n",
    "* **size**: toplam eleman sayısı\n",
    "* **dtype**: array veri tipi"
   ]
  },
  {
   "cell_type": "code",
   "execution_count": 42,
   "id": "fefdbd52-c33a-49b3-a1cd-afd02d4c4206",
   "metadata": {},
   "outputs": [
    {
     "data": {
      "text/plain": [
       "array([[0, 5, 2, 7, 3],\n",
       "       [8, 1, 2, 4, 2],\n",
       "       [1, 2, 4, 6, 3]])"
      ]
     },
     "execution_count": 42,
     "metadata": {},
     "output_type": "execute_result"
    }
   ],
   "source": [
    "b = np.random.randint(10, size = (3,5))\n",
    "b"
   ]
  },
  {
   "cell_type": "code",
   "execution_count": 38,
   "id": "1e7c6076-4d2e-4355-a512-12e72623e3dd",
   "metadata": {},
   "outputs": [
    {
     "data": {
      "text/plain": [
       "2"
      ]
     },
     "execution_count": 38,
     "metadata": {},
     "output_type": "execute_result"
    }
   ],
   "source": [
    "b.ndim"
   ]
  },
  {
   "cell_type": "code",
   "execution_count": 40,
   "id": "06b69d0f-92e0-4fbd-bfe5-5198c316c171",
   "metadata": {},
   "outputs": [
    {
     "data": {
      "text/plain": [
       "(3, 5)"
      ]
     },
     "execution_count": 40,
     "metadata": {},
     "output_type": "execute_result"
    }
   ],
   "source": [
    "b.shape"
   ]
  },
  {
   "cell_type": "code",
   "execution_count": 41,
   "id": "e33f221b-e3c1-43a8-9567-0cabe9abc8cc",
   "metadata": {},
   "outputs": [
    {
     "data": {
      "text/plain": [
       "15"
      ]
     },
     "execution_count": 41,
     "metadata": {},
     "output_type": "execute_result"
    }
   ],
   "source": [
    "b.size"
   ]
  },
  {
   "cell_type": "code",
   "execution_count": 43,
   "id": "ff00d985-1d47-43f7-a81d-b566477fd563",
   "metadata": {},
   "outputs": [
    {
     "data": {
      "text/plain": [
       "dtype('int32')"
      ]
     },
     "execution_count": 43,
     "metadata": {},
     "output_type": "execute_result"
    }
   ],
   "source": [
    "b.dtype"
   ]
  },
  {
   "cell_type": "code",
   "execution_count": 44,
   "id": "965dad6a-588a-4784-9ce8-795fa723e916",
   "metadata": {},
   "outputs": [
    {
     "data": {
      "text/plain": [
       "array([1, 2, 3, 4, 5, 6, 7, 8, 9])"
      ]
     },
     "execution_count": 44,
     "metadata": {},
     "output_type": "execute_result"
    }
   ],
   "source": [
    "c = np.arange(1, 10)\n",
    "c"
   ]
  },
  {
   "cell_type": "code",
   "execution_count": 49,
   "id": "227ff7c1-bbcc-4ea0-a19c-9f330340ad08",
   "metadata": {},
   "outputs": [
    {
     "data": {
      "text/plain": [
       "array([[1, 2, 3],\n",
       "       [4, 5, 6],\n",
       "       [7, 8, 9]])"
      ]
     },
     "execution_count": 49,
     "metadata": {},
     "output_type": "execute_result"
    }
   ],
   "source": [
    "d = c.reshape(3, 3)\n",
    "d"
   ]
  },
  {
   "cell_type": "code",
   "execution_count": 50,
   "id": "62bb7413-1510-4d84-88d8-381746f0f61b",
   "metadata": {},
   "outputs": [
    {
     "data": {
      "text/plain": [
       "2"
      ]
     },
     "execution_count": 50,
     "metadata": {},
     "output_type": "execute_result"
    }
   ],
   "source": [
    "d.ndim"
   ]
  },
  {
   "cell_type": "markdown",
   "id": "70592087-273c-4817-9f0e-7f34ac1cf307",
   "metadata": {},
   "source": [
    "# Array Birleştirme (Concatenation)"
   ]
  },
  {
   "cell_type": "code",
   "execution_count": 57,
   "id": "5c32119e-c2a3-41b4-aead-b4dab7af99ed",
   "metadata": {},
   "outputs": [],
   "source": [
    "arr1 = np.array([1, 2, 3, 4])\n",
    "arr2 = np.array([5, 6, 7, 8])\n",
    "arr3 = np.array([9, 10, 11, 12])"
   ]
  },
  {
   "cell_type": "code",
   "execution_count": 58,
   "id": "d97175ed-525c-4440-a8b9-d2305e1bc195",
   "metadata": {},
   "outputs": [
    {
     "data": {
      "text/plain": [
       "array([ 1,  2,  3,  4,  5,  6,  7,  8,  9, 10, 11, 12])"
      ]
     },
     "execution_count": 58,
     "metadata": {},
     "output_type": "execute_result"
    }
   ],
   "source": [
    "arr4 = np.concatenate([arr1, arr2, arr3])\n",
    "arr4"
   ]
  },
  {
   "cell_type": "code",
   "execution_count": 59,
   "id": "fcf518b5-653a-4cba-a7b5-ddba438c1d37",
   "metadata": {},
   "outputs": [],
   "source": [
    "#iki boyut"
   ]
  },
  {
   "cell_type": "code",
   "execution_count": 61,
   "id": "852160d8-eac4-4188-9852-8bae5111a8fb",
   "metadata": {},
   "outputs": [],
   "source": [
    "arr5 = np.array([[1,2,3],\n",
    "                [4,5,6]])"
   ]
  },
  {
   "cell_type": "code",
   "execution_count": 67,
   "id": "84ad0bcd-41f9-4a42-9c4f-34ada7433fe7",
   "metadata": {},
   "outputs": [
    {
     "data": {
      "text/plain": [
       "array([[1, 2, 3],\n",
       "       [4, 5, 6],\n",
       "       [1, 2, 3],\n",
       "       [4, 5, 6]])"
      ]
     },
     "execution_count": 67,
     "metadata": {},
     "output_type": "execute_result"
    }
   ],
   "source": [
    "np.concatenate([arr5,arr5])"
   ]
  },
  {
   "cell_type": "markdown",
   "id": "1cc6a9c8-f79c-41fd-a969-d7975109387f",
   "metadata": {},
   "source": [
    "# Array Ayırma (Splitting)"
   ]
  },
  {
   "cell_type": "code",
   "execution_count": 70,
   "id": "3a0d0ef9-ed8b-419a-85d6-c16ebd52576f",
   "metadata": {},
   "outputs": [],
   "source": [
    "x = np.array([1, 2, 3, 99, 99, 3, 2, 1])"
   ]
  },
  {
   "cell_type": "code",
   "execution_count": 74,
   "id": "fab3407f-0100-431d-b86c-70c7eb445ea2",
   "metadata": {},
   "outputs": [
    {
     "data": {
      "text/plain": [
       "array([1, 2, 3])"
      ]
     },
     "execution_count": 74,
     "metadata": {},
     "output_type": "execute_result"
    }
   ],
   "source": [
    "a, b, c = np.split(x, [3, 5])\n",
    "a"
   ]
  },
  {
   "cell_type": "code",
   "execution_count": 75,
   "id": "ef0e454a-7914-458e-b93c-05767d5aa68f",
   "metadata": {},
   "outputs": [
    {
     "data": {
      "text/plain": [
       "array([99, 99])"
      ]
     },
     "execution_count": 75,
     "metadata": {},
     "output_type": "execute_result"
    }
   ],
   "source": [
    "b"
   ]
  },
  {
   "cell_type": "code",
   "execution_count": 76,
   "id": "f75ac5c4-100b-46be-b37f-19d1683086ca",
   "metadata": {},
   "outputs": [
    {
     "data": {
      "text/plain": [
       "array([3, 2, 1])"
      ]
     },
     "execution_count": 76,
     "metadata": {},
     "output_type": "execute_result"
    }
   ],
   "source": [
    "c"
   ]
  },
  {
   "cell_type": "code",
   "execution_count": 77,
   "id": "20eb33ed-0bf4-4290-b3b6-e26aa8005c4a",
   "metadata": {},
   "outputs": [],
   "source": [
    "# iki boyutlu ayırma"
   ]
  },
  {
   "cell_type": "code",
   "execution_count": 88,
   "id": "37e871d5-4038-4844-b712-7c06889e0612",
   "metadata": {},
   "outputs": [
    {
     "data": {
      "text/plain": [
       "array([[ 0,  1,  2,  3],\n",
       "       [ 4,  5,  6,  7],\n",
       "       [ 8,  9, 10, 11],\n",
       "       [12, 13, 14, 15]])"
      ]
     },
     "execution_count": 88,
     "metadata": {},
     "output_type": "execute_result"
    }
   ],
   "source": [
    "y = np.arange(16).reshape(4,4)\n",
    "y"
   ]
  },
  {
   "cell_type": "code",
   "execution_count": 94,
   "id": "32942ea1-c12d-4fba-8535-137325c40813",
   "metadata": {},
   "outputs": [],
   "source": [
    "ust, alt = np.vsplit(y, [2])"
   ]
  },
  {
   "cell_type": "code",
   "execution_count": 92,
   "id": "5a091d59-9915-4e4a-aaec-0cff8f9cf360",
   "metadata": {},
   "outputs": [
    {
     "data": {
      "text/plain": [
       "array([[0, 1, 2, 3],\n",
       "       [4, 5, 6, 7]])"
      ]
     },
     "execution_count": 92,
     "metadata": {},
     "output_type": "execute_result"
    }
   ],
   "source": [
    "ust"
   ]
  },
  {
   "cell_type": "code",
   "execution_count": 93,
   "id": "b4641b16-40ab-4aad-8a37-750c1f2b2b1d",
   "metadata": {},
   "outputs": [
    {
     "data": {
      "text/plain": [
       "array([[ 8,  9, 10, 11],\n",
       "       [12, 13, 14, 15]])"
      ]
     },
     "execution_count": 93,
     "metadata": {},
     "output_type": "execute_result"
    }
   ],
   "source": [
    "alt "
   ]
  },
  {
   "cell_type": "code",
   "execution_count": 95,
   "id": "0f892777-ef51-469a-ac89-3cfb52365a90",
   "metadata": {},
   "outputs": [
    {
     "data": {
      "text/plain": [
       "array([[ 0,  1,  2,  3],\n",
       "       [ 4,  5,  6,  7],\n",
       "       [ 8,  9, 10, 11],\n",
       "       [12, 13, 14, 15]])"
      ]
     },
     "execution_count": 95,
     "metadata": {},
     "output_type": "execute_result"
    }
   ],
   "source": [
    "y"
   ]
  },
  {
   "cell_type": "code",
   "execution_count": 99,
   "id": "b24f28a8-a686-4cdb-bf93-ec198a1b4f5b",
   "metadata": {},
   "outputs": [
    {
     "data": {
      "text/plain": [
       "[array([[ 0,  1],\n",
       "        [ 4,  5],\n",
       "        [ 8,  9],\n",
       "        [12, 13]]),\n",
       " array([[ 2,  3],\n",
       "        [ 6,  7],\n",
       "        [10, 11],\n",
       "        [14, 15]])]"
      ]
     },
     "execution_count": 99,
     "metadata": {},
     "output_type": "execute_result"
    }
   ],
   "source": [
    "np.hsplit(y, [2])"
   ]
  },
  {
   "cell_type": "code",
   "execution_count": 101,
   "id": "408887d7-0e41-4927-abfe-b379d7e28a1c",
   "metadata": {},
   "outputs": [],
   "source": [
    "sag, sol = np.hsplit(y, [2])"
   ]
  },
  {
   "cell_type": "code",
   "execution_count": 102,
   "id": "e6405b1b-51e9-46dd-a493-009e6cd3a5f3",
   "metadata": {},
   "outputs": [
    {
     "data": {
      "text/plain": [
       "array([[ 0,  1],\n",
       "       [ 4,  5],\n",
       "       [ 8,  9],\n",
       "       [12, 13]])"
      ]
     },
     "execution_count": 102,
     "metadata": {},
     "output_type": "execute_result"
    }
   ],
   "source": [
    "sag"
   ]
  },
  {
   "cell_type": "code",
   "execution_count": 103,
   "id": "7bcc89e5-cf8c-45db-8153-7deb99145be2",
   "metadata": {},
   "outputs": [
    {
     "data": {
      "text/plain": [
       "array([[ 2,  3],\n",
       "       [ 6,  7],\n",
       "       [10, 11],\n",
       "       [14, 15]])"
      ]
     },
     "execution_count": 103,
     "metadata": {},
     "output_type": "execute_result"
    }
   ],
   "source": [
    "sol"
   ]
  },
  {
   "cell_type": "markdown",
   "id": "41b822c4-a295-4857-bb6a-89ace381a5fc",
   "metadata": {},
   "source": [
    "# Sıralama(Sorting)"
   ]
  },
  {
   "cell_type": "code",
   "execution_count": 104,
   "id": "259c73c0-fbe2-4d30-b924-ccce6f137653",
   "metadata": {},
   "outputs": [],
   "source": [
    "v = np.array([5, 2, 12, 6, 90, 76, 1])"
   ]
  },
  {
   "cell_type": "code",
   "execution_count": 109,
   "id": "53f95956-4aed-4dc4-afc8-d5f1e42b54fd",
   "metadata": {},
   "outputs": [
    {
     "data": {
      "text/plain": [
       "array([ 1,  2,  5,  6, 12, 76, 90])"
      ]
     },
     "execution_count": 109,
     "metadata": {},
     "output_type": "execute_result"
    }
   ],
   "source": [
    "np.sort(v)"
   ]
  },
  {
   "cell_type": "code",
   "execution_count": 110,
   "id": "1110eff8-760c-4d16-8325-138ecbce32fc",
   "metadata": {},
   "outputs": [],
   "source": [
    "# iki boyutlu sıralama"
   ]
  },
  {
   "cell_type": "code",
   "execution_count": 112,
   "id": "156c6e77-52fb-486b-8891-7e185005ffba",
   "metadata": {},
   "outputs": [],
   "source": [
    "g = np.random.normal(20 ,5, (3, 3))"
   ]
  },
  {
   "cell_type": "code",
   "execution_count": 113,
   "id": "38ceed5c-4f57-4e4c-a04b-f3e504dbf752",
   "metadata": {},
   "outputs": [
    {
     "data": {
      "text/plain": [
       "array([[23.13810028, 19.57743879, 21.33869356],\n",
       "       [21.05967478, 12.60666622, 21.66841393],\n",
       "       [15.44210122, 12.65243614, 24.45776933]])"
      ]
     },
     "execution_count": 113,
     "metadata": {},
     "output_type": "execute_result"
    }
   ],
   "source": [
    "g"
   ]
  },
  {
   "cell_type": "code",
   "execution_count": 115,
   "id": "4b7c972c-5ae6-4536-bfed-c4993ce3df9a",
   "metadata": {},
   "outputs": [
    {
     "data": {
      "text/plain": [
       "array([[19.57743879, 21.33869356, 23.13810028],\n",
       "       [12.60666622, 21.05967478, 21.66841393],\n",
       "       [12.65243614, 15.44210122, 24.45776933]])"
      ]
     },
     "execution_count": 115,
     "metadata": {},
     "output_type": "execute_result"
    }
   ],
   "source": [
    "#satırları sıralar\n",
    "np.sort(g, axis = 1)"
   ]
  },
  {
   "cell_type": "code",
   "execution_count": 116,
   "id": "34deb237-ba51-4707-b137-1aae605ca55d",
   "metadata": {},
   "outputs": [
    {
     "data": {
      "text/plain": [
       "array([[15.44210122, 12.60666622, 21.33869356],\n",
       "       [21.05967478, 12.65243614, 21.66841393],\n",
       "       [23.13810028, 19.57743879, 24.45776933]])"
      ]
     },
     "execution_count": 116,
     "metadata": {},
     "output_type": "execute_result"
    }
   ],
   "source": [
    "# sütunları sıralar\n",
    "np.sort(g, axis = 0)"
   ]
  },
  {
   "cell_type": "markdown",
   "id": "8bed2965-e592-43dd-b544-a00b6f94d918",
   "metadata": {},
   "source": [
    "# Index"
   ]
  },
  {
   "cell_type": "code",
   "execution_count": 118,
   "id": "babe029b-2567-49ae-bb6d-1f9f9bf3bacc",
   "metadata": {},
   "outputs": [
    {
     "data": {
      "text/plain": [
       "array([8, 2, 4, 3, 1, 2, 1, 3, 4, 0])"
      ]
     },
     "execution_count": 118,
     "metadata": {},
     "output_type": "execute_result"
    }
   ],
   "source": [
    "k = np.random.randint(10, size = 10)\n",
    "k"
   ]
  },
  {
   "cell_type": "code",
   "execution_count": 119,
   "id": "adaba82c-99fd-4f45-8bb2-bea34c69b07c",
   "metadata": {},
   "outputs": [
    {
     "data": {
      "text/plain": [
       "8"
      ]
     },
     "execution_count": 119,
     "metadata": {},
     "output_type": "execute_result"
    }
   ],
   "source": [
    "k[0]"
   ]
  },
  {
   "cell_type": "code",
   "execution_count": 120,
   "id": "ced4bcd1-586e-4981-8e3d-18140634ca30",
   "metadata": {},
   "outputs": [
    {
     "data": {
      "text/plain": [
       "0"
      ]
     },
     "execution_count": 120,
     "metadata": {},
     "output_type": "execute_result"
    }
   ],
   "source": [
    "k[-1]"
   ]
  },
  {
   "cell_type": "code",
   "execution_count": 121,
   "id": "ba4eac41-9cbf-4bce-a296-a9d65ee00780",
   "metadata": {},
   "outputs": [
    {
     "data": {
      "text/plain": [
       "3"
      ]
     },
     "execution_count": 121,
     "metadata": {},
     "output_type": "execute_result"
    }
   ],
   "source": [
    "k[3]"
   ]
  },
  {
   "cell_type": "code",
   "execution_count": 122,
   "id": "4e5434a8-4a97-48d6-bd65-8366723fe214",
   "metadata": {},
   "outputs": [],
   "source": [
    "k[3] = 5"
   ]
  },
  {
   "cell_type": "code",
   "execution_count": 125,
   "id": "fc96dfea-f63e-4eb0-a246-8d11dfa0ff77",
   "metadata": {},
   "outputs": [
    {
     "data": {
      "text/plain": [
       "array([[ 0,  1,  2,  3],\n",
       "       [ 4,  5,  6,  7],\n",
       "       [ 8,  9, 10, 11],\n",
       "       [12, 13, 14, 15]])"
      ]
     },
     "execution_count": 125,
     "metadata": {},
     "output_type": "execute_result"
    }
   ],
   "source": [
    "f = np.arange(16).reshape(4,4)\n",
    "f"
   ]
  },
  {
   "cell_type": "code",
   "execution_count": 126,
   "id": "13e46ba8-091d-4926-a430-effee2d04792",
   "metadata": {},
   "outputs": [
    {
     "data": {
      "text/plain": [
       "5"
      ]
     },
     "execution_count": 126,
     "metadata": {},
     "output_type": "execute_result"
    }
   ],
   "source": [
    "f[1, 1]"
   ]
  },
  {
   "cell_type": "code",
   "execution_count": 129,
   "id": "ca918b68-9a2b-4b63-84c0-7d7078511111",
   "metadata": {},
   "outputs": [],
   "source": [
    "f[3, 1] = 5.6"
   ]
  },
  {
   "cell_type": "code",
   "execution_count": 131,
   "id": "116db9d3-b446-44ff-becc-4a631f50c7be",
   "metadata": {},
   "outputs": [
    {
     "data": {
      "text/plain": [
       "array([[ 0,  1,  2,  3],\n",
       "       [ 4,  5,  6,  7],\n",
       "       [ 8,  9, 10, 11],\n",
       "       [12,  5, 14, 15]])"
      ]
     },
     "execution_count": 131,
     "metadata": {},
     "output_type": "execute_result"
    }
   ],
   "source": [
    "f #ondalıklı yapamadık çünkü başta array integer değerlerden oluştuğu için otomatikmen ondalık sayıyı tam sayıya çevirdi"
   ]
  },
  {
   "cell_type": "markdown",
   "id": "476c4a90-9403-47f5-8def-8333d89b4b9c",
   "metadata": {},
   "source": [
    "# Slicing ile Elemanlara Erişmek (Array Alt kümesine erişmek)"
   ]
  },
  {
   "cell_type": "code",
   "execution_count": 133,
   "id": "b109933e-73e1-4b14-b935-a259a64591c8",
   "metadata": {},
   "outputs": [
    {
     "data": {
      "text/plain": [
       "array([20, 21, 22, 23, 24, 25, 26, 27, 28, 29])"
      ]
     },
     "execution_count": 133,
     "metadata": {},
     "output_type": "execute_result"
    }
   ],
   "source": [
    "a = np.arange(20, 30)\n",
    "a"
   ]
  },
  {
   "cell_type": "code",
   "execution_count": 134,
   "id": "09041b1b-3520-4475-ad28-00ac8f061b53",
   "metadata": {},
   "outputs": [
    {
     "data": {
      "text/plain": [
       "array([20, 21, 22])"
      ]
     },
     "execution_count": 134,
     "metadata": {},
     "output_type": "execute_result"
    }
   ],
   "source": [
    "a[0:3]"
   ]
  },
  {
   "cell_type": "code",
   "execution_count": 135,
   "id": "811ff247-f252-4e3e-94c2-6b39e11143bd",
   "metadata": {},
   "outputs": [
    {
     "data": {
      "text/plain": [
       "array([20, 21, 22])"
      ]
     },
     "execution_count": 135,
     "metadata": {},
     "output_type": "execute_result"
    }
   ],
   "source": [
    "a[:3]"
   ]
  },
  {
   "cell_type": "code",
   "execution_count": 136,
   "id": "00511d81-e9b1-453e-b416-04e58cee6892",
   "metadata": {},
   "outputs": [
    {
     "data": {
      "text/plain": [
       "array([23, 24, 25, 26, 27, 28, 29])"
      ]
     },
     "execution_count": 136,
     "metadata": {},
     "output_type": "execute_result"
    }
   ],
   "source": [
    "a[3:]"
   ]
  },
  {
   "cell_type": "code",
   "execution_count": 137,
   "id": "7ff10b23-0384-4743-8712-e27f58cc3d8c",
   "metadata": {},
   "outputs": [
    {
     "data": {
      "text/plain": [
       "array([21, 23, 25, 27, 29])"
      ]
     },
     "execution_count": 137,
     "metadata": {},
     "output_type": "execute_result"
    }
   ],
   "source": [
    "a[1::2]"
   ]
  },
  {
   "cell_type": "code",
   "execution_count": 138,
   "id": "f177e911-d7c6-483d-9f67-2e95ac568ec5",
   "metadata": {},
   "outputs": [
    {
     "data": {
      "text/plain": [
       "array([20, 23, 26, 29])"
      ]
     },
     "execution_count": 138,
     "metadata": {},
     "output_type": "execute_result"
    }
   ],
   "source": [
    "a[0::3]"
   ]
  },
  {
   "cell_type": "code",
   "execution_count": 139,
   "id": "3b27b19d-a86b-4474-a2ff-c6177b133f7c",
   "metadata": {},
   "outputs": [],
   "source": [
    "# iki boyutlu slice işlemleri"
   ]
  },
  {
   "cell_type": "code",
   "execution_count": 142,
   "id": "5fde2e76-e94c-420c-b525-51e6eeae7806",
   "metadata": {},
   "outputs": [
    {
     "data": {
      "text/plain": [
       "array([[2, 1, 9, 3, 6],\n",
       "       [7, 8, 7, 6, 9],\n",
       "       [0, 4, 2, 2, 1],\n",
       "       [1, 9, 8, 8, 5],\n",
       "       [2, 8, 9, 2, 5]])"
      ]
     },
     "execution_count": 142,
     "metadata": {},
     "output_type": "execute_result"
    }
   ],
   "source": [
    "b = np.random.randint(10, size = (5,5))\n",
    "b"
   ]
  },
  {
   "cell_type": "code",
   "execution_count": 144,
   "id": "2637c445-c0d4-4c9c-b22b-9fce96b26be0",
   "metadata": {},
   "outputs": [
    {
     "data": {
      "text/plain": [
       "array([2, 7, 0, 1, 2])"
      ]
     },
     "execution_count": 144,
     "metadata": {},
     "output_type": "execute_result"
    }
   ],
   "source": [
    "b[:,0]"
   ]
  },
  {
   "cell_type": "code",
   "execution_count": 145,
   "id": "d0cfc0a5-5bfc-4b99-b911-6fa12d0b7d77",
   "metadata": {},
   "outputs": [
    {
     "data": {
      "text/plain": [
       "array([[2, 1, 9, 3, 6],\n",
       "       [7, 8, 7, 6, 9],\n",
       "       [0, 4, 2, 2, 1],\n",
       "       [1, 9, 8, 8, 5],\n",
       "       [2, 8, 9, 2, 5]])"
      ]
     },
     "execution_count": 145,
     "metadata": {},
     "output_type": "execute_result"
    }
   ],
   "source": [
    "b[:,:]"
   ]
  },
  {
   "cell_type": "code",
   "execution_count": 146,
   "id": "84d01f0a-c021-49eb-940d-7282d5089ab5",
   "metadata": {},
   "outputs": [
    {
     "data": {
      "text/plain": [
       "array([1, 8, 4, 9, 8])"
      ]
     },
     "execution_count": 146,
     "metadata": {},
     "output_type": "execute_result"
    }
   ],
   "source": [
    "b[:, 1]"
   ]
  },
  {
   "cell_type": "code",
   "execution_count": 147,
   "id": "4b8412e7-c453-4225-bfb5-b9dd60ecffc7",
   "metadata": {},
   "outputs": [
    {
     "data": {
      "text/plain": [
       "array([2, 1, 9, 3, 6])"
      ]
     },
     "execution_count": 147,
     "metadata": {},
     "output_type": "execute_result"
    }
   ],
   "source": [
    "b[0,:]"
   ]
  },
  {
   "cell_type": "code",
   "execution_count": 149,
   "id": "4fb95970-0aae-4f8f-9d2e-dffc6eac54dd",
   "metadata": {},
   "outputs": [
    {
     "data": {
      "text/plain": [
       "array([[2, 1, 9],\n",
       "       [7, 8, 7]])"
      ]
     },
     "execution_count": 149,
     "metadata": {},
     "output_type": "execute_result"
    }
   ],
   "source": [
    "b[0:2, 0:3]"
   ]
  },
  {
   "cell_type": "code",
   "execution_count": 151,
   "id": "8ebf277b-3b7b-48c5-bff2-6b812582191e",
   "metadata": {},
   "outputs": [
    {
     "data": {
      "text/plain": [
       "array([[2, 1],\n",
       "       [7, 8],\n",
       "       [0, 4],\n",
       "       [1, 9],\n",
       "       [2, 8]])"
      ]
     },
     "execution_count": 151,
     "metadata": {},
     "output_type": "execute_result"
    }
   ],
   "source": [
    "b[::, :2]"
   ]
  },
  {
   "cell_type": "code",
   "execution_count": 152,
   "id": "c691b66b-4f70-44a4-8f88-7e26a4da83a1",
   "metadata": {},
   "outputs": [
    {
     "data": {
      "text/plain": [
       "array([[7, 8],\n",
       "       [0, 4]])"
      ]
     },
     "execution_count": 152,
     "metadata": {},
     "output_type": "execute_result"
    }
   ],
   "source": [
    "b[1:3, 0:2]"
   ]
  },
  {
   "cell_type": "markdown",
   "id": "dc02074d-b7f5-464d-98cc-c706781ecc80",
   "metadata": {},
   "source": [
    "# NumPy ile iki bilinmeyenli denklem çözümü"
   ]
  },
  {
   "cell_type": "markdown",
   "id": "528ffe03-4cd8-4e3d-a44a-7e2c871387a8",
   "metadata": {},
   "source": [
    "5*x0 + x1 = 12 \n",
    "\n",
    "x0 + 3*x1 = 10"
   ]
  },
  {
   "cell_type": "code",
   "execution_count": 154,
   "id": "f4f70b43-79a9-4dfe-bd51-68ab26ea759e",
   "metadata": {},
   "outputs": [],
   "source": [
    "a = np.array([[5, 1], [1,3]])\n",
    "b = np.array([12, 10])"
   ]
  },
  {
   "cell_type": "code",
   "execution_count": 155,
   "id": "72877373-8917-422a-b071-30928bcadde3",
   "metadata": {},
   "outputs": [],
   "source": [
    "x = np.linalg.solve(a,b)"
   ]
  },
  {
   "cell_type": "code",
   "execution_count": 156,
   "id": "184b5f5b-a1e8-42b1-9373-d5a274b75cea",
   "metadata": {},
   "outputs": [
    {
     "data": {
      "text/plain": [
       "array([1.85714286, 2.71428571])"
      ]
     },
     "execution_count": 156,
     "metadata": {},
     "output_type": "execute_result"
    }
   ],
   "source": [
    "x"
   ]
  },
  {
   "cell_type": "code",
   "execution_count": null,
   "id": "df761d45-7b5f-495d-b8fd-92978e7eca84",
   "metadata": {},
   "outputs": [],
   "source": []
  }
 ],
 "metadata": {
  "kernelspec": {
   "display_name": "Python 3 (myenv)",
   "language": "python",
   "name": "myenv"
  },
  "language_info": {
   "codemirror_mode": {
    "name": "ipython",
    "version": 3
   },
   "file_extension": ".py",
   "mimetype": "text/x-python",
   "name": "python",
   "nbconvert_exporter": "python",
   "pygments_lexer": "ipython3",
   "version": "3.9.19"
  }
 },
 "nbformat": 4,
 "nbformat_minor": 5
}
